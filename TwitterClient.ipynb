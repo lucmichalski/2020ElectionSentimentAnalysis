{
 "cells": [
  {
   "cell_type": "code",
   "execution_count": 25,
   "metadata": {
    "colab": {
     "base_uri": "https://localhost:8080/",
     "height": 366
    },
    "colab_type": "code",
    "executionInfo": {
     "elapsed": 534,
     "status": "error",
     "timestamp": 1574961894902,
     "user": {
      "displayName": "Selean Ridley",
      "photoUrl": "",
      "userId": "16023402062508494894"
     },
     "user_tz": 300
    },
    "id": "KTm5Yavf7Pf5",
    "outputId": "647ca7c6-2770-4345-a183-2c66bf7cac1d"
   },
   "outputs": [
    {
     "name": "stdout",
     "output_type": "stream",
     "text": [
      "            0           1          2\n",
      "0     michael        mike     bennet\n",
      "1      joseph         joe      biden\n",
      "2     michael        mike  bloomberg\n",
      "3        cory      booker       None\n",
      "4       steve     bullock       None\n",
      "5        pete   buttigieg       None\n",
      "6      julian      castro       None\n",
      "7        john     delaney       None\n",
      "8       tulsi     gabbard       None\n",
      "9      kamala      harris       None\n",
      "10        amy   klobuchar       None\n",
      "11      deval     patrick       None\n",
      "12     bernie     sanders       None\n",
      "13        joe      sestak       None\n",
      "14        tom      steyer       None\n",
      "15  elizabeth         liz     warren\n",
      "16   marianne  williamson       None\n",
      "17     andrew        yang       None\n",
      "18     donald       trump       None\n",
      "19        joe       walsh       None\n"
     ]
    }
   ],
   "source": [
    "import re\n",
    "#!pip3 install twint\n",
    "#!pip install import_ipynb\n",
    "import twint\n",
    "#import import_ipynb\n",
    "import pandas as pd\n",
    "#import candidates\n",
    "%run \"candidates.ipynb\"\n"
   ]
  },
  {
   "cell_type": "code",
   "execution_count": 26,
   "metadata": {
    "colab": {},
    "colab_type": "code",
    "id": "cwihicsG8s33"
   },
   "outputs": [],
   "source": [
    "\n",
    "# ** Steps:\n",
    "# Creating a array, or pd dataframe, of presidential candidates and lemmentizing the names\n",
    "# to include shortened versions and aliases\n",
    "\n",
    "# Determining parameters, such as location of tweet, time, \n",
    "# limit of tweets collected, etc\n",
    "\n",
    "# Collecting tweets through twitter class with twint\n",
    "# saving tweets to a pd dataframe, which can be converted to a csv, or json\n",
    "\n",
    "# Processing tweets\n",
    "\n",
    "# ** Notes:\n",
    "# Let's put everything in a pandas dataframe first \n",
    "# and then convert to a csv or json\n",
    "\n",
    "\n",
    "class TwitterClient:\n",
    "  '''\n",
    "  Twitter Twint intialization \n",
    "  '''\n",
    "  def __init__(self):\n",
    "    self.twint_Api = twint.Config()\n",
    "\n",
    "  def getTweets(self, keywords, count):\n",
    "\n",
    "    tweets = []\n",
    "    \n",
    "    for keyword in keywords:\n",
    "        search_string = \"\"\n",
    "        for terms in keyword:\n",
    "            search_string += terms + \" \"\n",
    "        \n",
    "        print(search_string)\n",
    "        self.twint_Api.Search = search_string\n",
    "        self.twint_Api.Limit = count\n",
    "        self.twint_Api.Lang = \"en\"\n",
    "        self.twint_Api.Pandas = True\n",
    "        #self.twint_Api.Pandas_au = True\n",
    "        #self.Output = str(filename) + \".csv\"\n",
    "\n",
    "        #try:\n",
    "        #    twint.run.Search(self.twint_Api)\n",
    "\n",
    "        #except: #Should find out what error Twint throws\n",
    "        #    print(\"Error: Search could not be run\")\n",
    "    \n",
    "        df = twint.storage.panda.Tweets_df\n",
    "        print(type(df))\n",
    "        print(df)\n",
    "        tweets.append(df)\n",
    "    \n",
    "    print(type(tweets[0]))\n",
    "    tweets_df = pd.concat(tweets)\n",
    "    print(tweets_df)\n",
    "  #def processTweets(tweets):\n",
    "    #NLP work\n",
    "\n",
    "  #def getSentiment(tweets):\n",
    "    #Sentiment Analysis"
   ]
  },
  {
   "cell_type": "code",
   "execution_count": 27,
   "metadata": {},
   "outputs": [
    {
     "name": "stdout",
     "output_type": "stream",
     "text": [
      "michael mike bennet \n",
      "<class 'NoneType'>\n",
      "None\n",
      "joseph joe biden \n",
      "<class 'NoneType'>\n",
      "None\n",
      "michael mike bloomberg \n",
      "<class 'NoneType'>\n",
      "None\n",
      "cory booker \n",
      "<class 'NoneType'>\n",
      "None\n",
      "steve bullock \n",
      "<class 'NoneType'>\n",
      "None\n",
      "pete buttigieg \n",
      "<class 'NoneType'>\n",
      "None\n",
      "julian castro \n",
      "<class 'NoneType'>\n",
      "None\n",
      "john delaney \n",
      "<class 'NoneType'>\n",
      "None\n",
      "tulsi gabbard \n",
      "<class 'NoneType'>\n",
      "None\n",
      "kamala harris \n",
      "<class 'NoneType'>\n",
      "None\n",
      "amy klobuchar \n",
      "<class 'NoneType'>\n",
      "None\n",
      "deval patrick \n",
      "<class 'NoneType'>\n",
      "None\n",
      "bernie sanders \n",
      "<class 'NoneType'>\n",
      "None\n",
      "joe sestak \n",
      "<class 'NoneType'>\n",
      "None\n",
      "tom steyer \n",
      "<class 'NoneType'>\n",
      "None\n",
      "elizabeth liz warren \n",
      "<class 'NoneType'>\n",
      "None\n",
      "marianne williamson \n",
      "<class 'NoneType'>\n",
      "None\n",
      "andrew yang \n",
      "<class 'NoneType'>\n",
      "None\n",
      "donald trump \n",
      "<class 'NoneType'>\n",
      "None\n",
      "joe walsh \n",
      "<class 'NoneType'>\n",
      "None\n",
      "<class 'NoneType'>\n"
     ]
    },
    {
     "ename": "ValueError",
     "evalue": "All objects passed were None",
     "output_type": "error",
     "traceback": [
      "\u001b[0;31m---------------------------------------------------------------------------\u001b[0m",
      "\u001b[0;31mValueError\u001b[0m                                Traceback (most recent call last)",
      "\u001b[0;32m<ipython-input-27-7e001087ad15>\u001b[0m in \u001b[0;36m<module>\u001b[0;34m\u001b[0m\n\u001b[1;32m      1\u001b[0m \u001b[0mt\u001b[0m \u001b[0;34m=\u001b[0m \u001b[0mTwitterClient\u001b[0m\u001b[0;34m(\u001b[0m\u001b[0;34m)\u001b[0m\u001b[0;34m\u001b[0m\u001b[0;34m\u001b[0m\u001b[0m\n\u001b[0;32m----> 2\u001b[0;31m \u001b[0mt\u001b[0m\u001b[0;34m.\u001b[0m\u001b[0mgetTweets\u001b[0m\u001b[0;34m(\u001b[0m\u001b[0mpres_candidates\u001b[0m\u001b[0;34m,\u001b[0m \u001b[0;36m10\u001b[0m\u001b[0;34m)\u001b[0m\u001b[0;34m\u001b[0m\u001b[0;34m\u001b[0m\u001b[0m\n\u001b[0m\u001b[1;32m      3\u001b[0m \u001b[0;34m\u001b[0m\u001b[0m\n",
      "\u001b[0;32m<ipython-input-26-c90a874592d0>\u001b[0m in \u001b[0;36mgetTweets\u001b[0;34m(self, keywords, count)\u001b[0m\n\u001b[1;32m     52\u001b[0m \u001b[0;34m\u001b[0m\u001b[0m\n\u001b[1;32m     53\u001b[0m     \u001b[0mprint\u001b[0m\u001b[0;34m(\u001b[0m\u001b[0mtype\u001b[0m\u001b[0;34m(\u001b[0m\u001b[0mtweets\u001b[0m\u001b[0;34m[\u001b[0m\u001b[0;36m0\u001b[0m\u001b[0;34m]\u001b[0m\u001b[0;34m)\u001b[0m\u001b[0;34m)\u001b[0m\u001b[0;34m\u001b[0m\u001b[0;34m\u001b[0m\u001b[0m\n\u001b[0;32m---> 54\u001b[0;31m     \u001b[0mtweets_df\u001b[0m \u001b[0;34m=\u001b[0m \u001b[0mpd\u001b[0m\u001b[0;34m.\u001b[0m\u001b[0mconcat\u001b[0m\u001b[0;34m(\u001b[0m\u001b[0mtweets\u001b[0m\u001b[0;34m)\u001b[0m\u001b[0;34m\u001b[0m\u001b[0;34m\u001b[0m\u001b[0m\n\u001b[0m\u001b[1;32m     55\u001b[0m     \u001b[0mprint\u001b[0m\u001b[0;34m(\u001b[0m\u001b[0mtweets_df\u001b[0m\u001b[0;34m)\u001b[0m\u001b[0;34m\u001b[0m\u001b[0;34m\u001b[0m\u001b[0m\n\u001b[1;32m     56\u001b[0m   \u001b[0;31m#def processTweets(tweets):\u001b[0m\u001b[0;34m\u001b[0m\u001b[0;34m\u001b[0m\u001b[0;34m\u001b[0m\u001b[0m\n",
      "\u001b[0;32m~/anaconda3/lib/python3.7/site-packages/pandas/core/reshape/concat.py\u001b[0m in \u001b[0;36mconcat\u001b[0;34m(objs, axis, join, join_axes, ignore_index, keys, levels, names, verify_integrity, sort, copy)\u001b[0m\n\u001b[1;32m    226\u001b[0m                        \u001b[0mkeys\u001b[0m\u001b[0;34m=\u001b[0m\u001b[0mkeys\u001b[0m\u001b[0;34m,\u001b[0m \u001b[0mlevels\u001b[0m\u001b[0;34m=\u001b[0m\u001b[0mlevels\u001b[0m\u001b[0;34m,\u001b[0m \u001b[0mnames\u001b[0m\u001b[0;34m=\u001b[0m\u001b[0mnames\u001b[0m\u001b[0;34m,\u001b[0m\u001b[0;34m\u001b[0m\u001b[0;34m\u001b[0m\u001b[0m\n\u001b[1;32m    227\u001b[0m                        \u001b[0mverify_integrity\u001b[0m\u001b[0;34m=\u001b[0m\u001b[0mverify_integrity\u001b[0m\u001b[0;34m,\u001b[0m\u001b[0;34m\u001b[0m\u001b[0;34m\u001b[0m\u001b[0m\n\u001b[0;32m--> 228\u001b[0;31m                        copy=copy, sort=sort)\n\u001b[0m\u001b[1;32m    229\u001b[0m     \u001b[0;32mreturn\u001b[0m \u001b[0mop\u001b[0m\u001b[0;34m.\u001b[0m\u001b[0mget_result\u001b[0m\u001b[0;34m(\u001b[0m\u001b[0;34m)\u001b[0m\u001b[0;34m\u001b[0m\u001b[0;34m\u001b[0m\u001b[0m\n\u001b[1;32m    230\u001b[0m \u001b[0;34m\u001b[0m\u001b[0m\n",
      "\u001b[0;32m~/anaconda3/lib/python3.7/site-packages/pandas/core/reshape/concat.py\u001b[0m in \u001b[0;36m__init__\u001b[0;34m(self, objs, axis, join, join_axes, keys, levels, names, ignore_index, verify_integrity, copy, sort)\u001b[0m\n\u001b[1;32m    278\u001b[0m \u001b[0;34m\u001b[0m\u001b[0m\n\u001b[1;32m    279\u001b[0m         \u001b[0;32mif\u001b[0m \u001b[0mlen\u001b[0m\u001b[0;34m(\u001b[0m\u001b[0mobjs\u001b[0m\u001b[0;34m)\u001b[0m \u001b[0;34m==\u001b[0m \u001b[0;36m0\u001b[0m\u001b[0;34m:\u001b[0m\u001b[0;34m\u001b[0m\u001b[0;34m\u001b[0m\u001b[0m\n\u001b[0;32m--> 280\u001b[0;31m             \u001b[0;32mraise\u001b[0m \u001b[0mValueError\u001b[0m\u001b[0;34m(\u001b[0m\u001b[0;34m'All objects passed were None'\u001b[0m\u001b[0;34m)\u001b[0m\u001b[0;34m\u001b[0m\u001b[0;34m\u001b[0m\u001b[0m\n\u001b[0m\u001b[1;32m    281\u001b[0m \u001b[0;34m\u001b[0m\u001b[0m\n\u001b[1;32m    282\u001b[0m         \u001b[0;31m# consolidate data & figure out what our result ndim is going to be\u001b[0m\u001b[0;34m\u001b[0m\u001b[0;34m\u001b[0m\u001b[0;34m\u001b[0m\u001b[0m\n",
      "\u001b[0;31mValueError\u001b[0m: All objects passed were None"
     ]
    }
   ],
   "source": [
    "\n",
    "t = TwitterClient()\n",
    "t.getTweets(pres_candidates, 10)\n",
    "    "
   ]
  }
 ],
 "metadata": {
  "colab": {
   "collapsed_sections": [],
   "name": "TwitterClient.ipynb",
   "provenance": []
  },
  "kernelspec": {
   "display_name": "Python 3",
   "language": "python",
   "name": "python3"
  },
  "language_info": {
   "codemirror_mode": {
    "name": "ipython",
    "version": 3
   },
   "file_extension": ".py",
   "mimetype": "text/x-python",
   "name": "python",
   "nbconvert_exporter": "python",
   "pygments_lexer": "ipython3",
   "version": "3.7.3"
  }
 },
 "nbformat": 4,
 "nbformat_minor": 1
}
