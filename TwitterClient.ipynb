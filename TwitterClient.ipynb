{
 "cells": [
  {
   "cell_type": "code",
   "execution_count": 16,
   "metadata": {
    "colab": {
     "base_uri": "https://localhost:8080/",
     "height": 366
    },
    "colab_type": "code",
    "executionInfo": {
     "elapsed": 534,
     "status": "error",
     "timestamp": 1574961894902,
     "user": {
      "displayName": "Selean Ridley",
      "photoUrl": "",
      "userId": "16023402062508494894"
     },
     "user_tz": 300
    },
    "id": "KTm5Yavf7Pf5",
    "outputId": "647ca7c6-2770-4345-a183-2c66bf7cac1d"
   },
   "outputs": [
    {
     "ename": "ValueError",
     "evalue": "ignored",
     "output_type": "error",
     "traceback": [
      "\u001b[0;31m---------------------------------------------------------------------------\u001b[0m",
      "\u001b[0;31mValueError\u001b[0m                                Traceback (most recent call last)",
      "\u001b[0;32m<ipython-input-16-6537c0814c8b>\u001b[0m in \u001b[0;36m<module>\u001b[0;34m()\u001b[0m\n\u001b[1;32m      1\u001b[0m \u001b[0;32mfrom\u001b[0m \u001b[0mgoogle\u001b[0m\u001b[0;34m.\u001b[0m\u001b[0mcolab\u001b[0m \u001b[0;32mimport\u001b[0m \u001b[0mdrive\u001b[0m\u001b[0;34m\u001b[0m\u001b[0;34m\u001b[0m\u001b[0m\n\u001b[0;32m----> 2\u001b[0;31m \u001b[0mdrive\u001b[0m\u001b[0;34m.\u001b[0m\u001b[0mmount\u001b[0m\u001b[0;34m(\u001b[0m\u001b[0;34m\"/content/drive/My\\040Drive/Colab\\040Notebooks/EECE5642FinalProj\"\u001b[0m\u001b[0;34m)\u001b[0m\u001b[0;34m\u001b[0m\u001b[0;34m\u001b[0m\u001b[0m\n\u001b[0m\u001b[1;32m      3\u001b[0m \u001b[0;31m#/My Drive/Colab\\ Notebooks/EECE5642FinalProj\")\u001b[0m\u001b[0;34m\u001b[0m\u001b[0;34m\u001b[0m\u001b[0;34m\u001b[0m\u001b[0m\n\u001b[1;32m      4\u001b[0m \u001b[0;34m\u001b[0m\u001b[0m\n\u001b[1;32m      5\u001b[0m \u001b[0;32mimport\u001b[0m \u001b[0mre\u001b[0m\u001b[0;34m\u001b[0m\u001b[0;34m\u001b[0m\u001b[0m\n",
      "\u001b[0;32m/usr/local/lib/python3.6/dist-packages/google/colab/drive.py\u001b[0m in \u001b[0;36mmount\u001b[0;34m(mountpoint, force_remount, timeout_ms, use_metadata_server)\u001b[0m\n\u001b[1;32m     93\u001b[0m \u001b[0;34m\u001b[0m\u001b[0m\n\u001b[1;32m     94\u001b[0m   \u001b[0;32mif\u001b[0m \u001b[0;34m' '\u001b[0m \u001b[0;32min\u001b[0m \u001b[0mmountpoint\u001b[0m\u001b[0;34m:\u001b[0m\u001b[0;34m\u001b[0m\u001b[0;34m\u001b[0m\u001b[0m\n\u001b[0;32m---> 95\u001b[0;31m     \u001b[0;32mraise\u001b[0m \u001b[0mValueError\u001b[0m\u001b[0;34m(\u001b[0m\u001b[0;34m'Mountpoint must not contain a space.'\u001b[0m\u001b[0;34m)\u001b[0m\u001b[0;34m\u001b[0m\u001b[0;34m\u001b[0m\u001b[0m\n\u001b[0m\u001b[1;32m     96\u001b[0m \u001b[0;34m\u001b[0m\u001b[0m\n\u001b[1;32m     97\u001b[0m   \u001b[0mmountpoint\u001b[0m \u001b[0;34m=\u001b[0m \u001b[0m_os\u001b[0m\u001b[0;34m.\u001b[0m\u001b[0mpath\u001b[0m\u001b[0;34m.\u001b[0m\u001b[0mexpanduser\u001b[0m\u001b[0;34m(\u001b[0m\u001b[0mmountpoint\u001b[0m\u001b[0;34m)\u001b[0m\u001b[0;34m\u001b[0m\u001b[0;34m\u001b[0m\u001b[0m\n",
      "\u001b[0;31mValueError\u001b[0m: Mountpoint must not contain a space."
     ]
    }
   ],
   "source": [
    "from google.colab import drive\n",
    "drive.mount(\"/content/drive/My\\040Drive/Colab\\040Notebooks/EECE5642FinalProj\")\n",
    "#/My Drive/Colab\\ Notebooks/EECE5642FinalProj\")\n",
    "\n",
    "import re\n",
    "#!pip3 install twint\n",
    "#!pip install import_ipynb\n",
    "import twint\n",
    "import import_ipynb\n",
    "import pandas as pd\n",
    "import candidates\n",
    "#%run \"candidates.ipynb\"\n"
   ]
  },
  {
   "cell_type": "code",
   "execution_count": 0,
   "metadata": {
    "colab": {},
    "colab_type": "code",
    "id": "cwihicsG8s33"
   },
   "outputs": [],
   "source": [
    "\n",
    "# ** Steps:\n",
    "# Creating a array, or pd dataframe, of presidential candidates and lemmentizing the names\n",
    "# to include shortened versions and aliases\n",
    "\n",
    "# Determining parameters, such as location of tweet, time, \n",
    "# limit of tweets collected, etc\n",
    "\n",
    "# Collecting tweets through twitter class with twint\n",
    "# saving tweets to a pd dataframe, which can be converted to a csv, or json\n",
    "\n",
    "# Processing tweets\n",
    "\n",
    "# ** Notes:\n",
    "# Let's put everything in a pandas dataframe first \n",
    "# and then convert to a csv or json\n",
    "\n",
    "\n",
    "class TwitterClient(object):\n",
    "  '''\n",
    "  Twitter Twint intialization \n",
    "  '''\n",
    "  def __init__(self):\n",
    "    self.config = twint.Config()\n",
    "\n",
    "  def getTweets(self, keyword, filename,  count):\n",
    "\n",
    "    tweets = []\n",
    "    self.Search = keyword\n",
    "    self.Limit = count\n",
    "    self.Lang = \"en\"\n",
    "    self.Store_csv = True\n",
    "    self.Output = str(filename) + \".csv\"\n",
    "    #Should honestly use a pandas dataframe instead of a csv\n",
    "\n",
    "    try:\n",
    "      twint.run.Search(self)\n",
    "    \n",
    "    except twint.Error as e: #Should find out what error Twint throws\n",
    "      print(\"Error: \" + str(e) )\n",
    "\n",
    "\n",
    "  #def processTweets(tweets):\n",
    "    #NLP work\n",
    "\n",
    "  #def getSentiment(tweets):\n",
    "    #Sentiment Analysis"
   ]
  }
 ],
 "metadata": {
  "colab": {
   "collapsed_sections": [],
   "name": "TwitterClient.ipynb",
   "provenance": []
  },
  "kernelspec": {
   "display_name": "Python 3",
   "language": "python",
   "name": "python3"
  },
  "language_info": {
   "codemirror_mode": {
    "name": "ipython",
    "version": 3
   },
   "file_extension": ".py",
   "mimetype": "text/x-python",
   "name": "python",
   "nbconvert_exporter": "python",
   "pygments_lexer": "ipython3",
   "version": "3.7.3"
  }
 },
 "nbformat": 4,
 "nbformat_minor": 1
}
