{
 "cells": [
  {
   "cell_type": "code",
   "execution_count": 4,
   "metadata": {
    "colab": {
     "base_uri": "https://localhost:8080/",
     "height": 366
    },
    "colab_type": "code",
    "executionInfo": {
     "elapsed": 534,
     "status": "error",
     "timestamp": 1574961894902,
     "user": {
      "displayName": "Selean Ridley",
      "photoUrl": "",
      "userId": "16023402062508494894"
     },
     "user_tz": 300
    },
    "id": "KTm5Yavf7Pf5",
    "outputId": "647ca7c6-2770-4345-a183-2c66bf7cac1d"
   },
   "outputs": [
    {
     "name": "stdout",
     "output_type": "stream",
     "text": [
      "            0           1          2\n",
      "0     michael        mike     bennet\n",
      "1      joseph         joe      biden\n",
      "2     michael        mike  bloomberg\n",
      "3        cory      booker       None\n",
      "4       steve     bullock       None\n",
      "5        pete   buttigieg       None\n",
      "6      julian      castro       None\n",
      "7        john     delaney       None\n",
      "8       tulsi     gabbard       None\n",
      "9      kamala      harris       None\n",
      "10        amy   klobuchar       None\n",
      "11      deval     patrick       None\n",
      "12     bernie     sanders       None\n",
      "13        joe      sestak       None\n",
      "14        tom      steyer       None\n",
      "15  elizabeth         liz     warren\n",
      "16   marianne  williamson       None\n",
      "17     andrew        yang       None\n",
      "18     donald       trump       None\n",
      "19        joe       walsh       None\n"
     ]
    }
   ],
   "source": [
    "import re\n",
    "#!pip3 install twint\n",
    "#!pip install import_ipynb\n",
    "#!pip install nest_asyncio\n",
    "import nest_asyncio\n",
    "nest_asyncio.apply()\n",
    "import twint\n",
    "import pandas as pd\n",
    "%run \"candidates.ipynb\"\n"
   ]
  },
  {
   "cell_type": "code",
   "execution_count": 5,
   "metadata": {
    "colab": {},
    "colab_type": "code",
    "id": "cwihicsG8s33"
   },
   "outputs": [],
   "source": [
    "\n",
    "# ** Steps:\n",
    "# Creating a array, or pd dataframe, of presidential candidates and lemmentizing the names\n",
    "# to include shortened versions and aliases\n",
    "\n",
    "# Determining parameters, such as location of tweet, time, \n",
    "# limit of tweets collected, etc\n",
    "\n",
    "# Collecting tweets through twitter class with twint\n",
    "# saving tweets to a pd dataframe, which can be converted to a csv, or json\n",
    "\n",
    "# Processing tweets\n",
    "\n",
    "# ** Notes:\n",
    "# Let's put everything in a pandas dataframe first \n",
    "# and then convert to a csv or json\n",
    "\n",
    "\n",
    "class TwitterClient:\n",
    "    '''\n",
    "    Twitter Twint intialization \n",
    "    '''\n",
    "    def __init__(self):\n",
    "        #Intializes the Twint object\n",
    "        self.twint_Api = twint.Config()\n",
    "\n",
    "    def getTweets(self, keywords, count):\n",
    "\n",
    "        tweets = []\n",
    "\n",
    "        for keyword in keywords:\n",
    "            #Creates a search string from the list of presidential candidates\n",
    "            search_string = \"\"\n",
    "            for terms in keyword:\n",
    "                search_string += terms + \" \"\n",
    "\n",
    "            #Declares twint search parameters\n",
    "            self.twint_Api.Search = search_string\n",
    "            self.twint_Api.Limit = count\n",
    "            self.twint_Api.Lang = \"en\"\n",
    "            self.twint_Api.Pandas = True\n",
    "            self.twint_Api.Pandas_au = True\n",
    "            self.twint_Api.Hide_output = True\n",
    "            #self.Output = str(filename) + \".csv\"\n",
    "\n",
    "            try:\n",
    "                twint.run.Search(self.twint_Api)\n",
    "\n",
    "            except: #Should find out what error Twint throws\n",
    "                print(\"Error: Search: \" + str(search_string) + \" could not be run\")\n",
    "\n",
    "            df = twint.storage.panda.Tweets_df\n",
    "            tweets.append(df[['tweet']])\n",
    "        \n",
    "        #Merges the databases from each candidates into one\n",
    "        tweets_df = pd.concat(tweets)\n",
    "        print(tweets_df)\n",
    "        return tweets_df\n",
    "\n"
   ]
  },
  {
   "cell_type": "code",
   "execution_count": 6,
   "metadata": {},
   "outputs": [
    {
     "name": "stdout",
     "output_type": "stream",
     "text": [
      "                                                tweet\n",
      "0   WATCH: Ironclad Mike Braun (R-IN) takes Michae...\n",
      "1   Hey, I hammered Romanoff for primarying Bennet...\n",
      "2   Michael Bennet Statement on Steve Bullock and ...\n",
      "3   Bullock’s case in D primary began with fact he...\n",
      "4   I am urging my 47 followers to give Michael Be...\n",
      "5   Yang is running on an idea. He's doing well ba...\n",
      "6   So -  AL - George Wallace AK - Mike Gravel, I ...\n",
      "7   Good news, bad news for ⁦@MichaelBennet⁩ in Q ...\n",
      "8   Bennet has had a good showing with press gener...\n",
      "9   Arn. Last thing I’m concerned about is falling...\n",
      "10  Michael Bennet Announces Endorsements of Longt...\n",
      "11    Funny, that’s Michael Bennet’s birth name, too.\n",
      "12  Warren & Bernie attacking Bloomberg for buying...\n",
      "13          Is this Michael Bennet or Mike Bloomberg?\n",
      "14  Some last minute co-sponsors! 🙏  McConnell, Mi...\n",
      "15  List of Republicans currently running for the ...\n",
      "16  Michael Bennet is a prick who stands for liter...\n",
      "17  Among the eight that did not vote on Menashi's...\n",
      "18  Mitt Romney Leads Senate RINOs in Bipartisan '...\n",
      "19  this is the look colorado senator michael benn...\n",
      "0   Trump call’s Joe Biden, Creepy Joe. 🤦🏼‍♀️  Bla...\n",
      "1   Joseph Biden was very unkind to Elizabeth Warr...\n",
      "2   @etnow @Reuters @cnnbrk @gtconway3d @JoeBiden ...\n",
      "3   \"Today, 77-year-old Joseph Robinette Biden Jr....\n",
      "4   Wilmington, Delaware, renamed a public pool af...\n",
      "5   “The young children like to rub my hairy legs....\n",
      "6   August 17th 2016 Hunter and Joe Biden were tog...\n",
      "7   Yeah.  Let's see some videos of misogynists in...\n",
      "8   You can't spell Joseph Robinet Biden without M...\n",
      "9   August 17th 2016 Hunter and Joe Biden were tog...\n",
      "..                                                ...\n",
      "10  Hi my name is Donald Trump. I advocated for th...\n",
      "11  Clintons, Obama , Podesta etc & half of our Br...\n",
      "12                           Was that info footnoted?\n",
      "13  You just want to pay lower interest on your ma...\n",
      "14  Thank you!!  It is horrific to me.  Fox News h...\n",
      "15  @realDonaldTrump The 300-page report cited two...\n",
      "16  he doesn't care .... and writes off the Mar A ...\n",
      "17  Nice of Trudeau to make time for a do nothing ...\n",
      "18  .@realDonaldTrump Does the lying bullshit EVER...\n",
      "19                                       Donald Trump\n",
      "0   Yes but Joe Walsh would’ve lost the primary if...\n",
      "1   I blame @michelleames for my now rabbit hole o...\n",
      "2   What happened to the @JoeWalsh Presidential ru...\n",
      "3   Joe Walsh is Keystone. Slightly better than wh...\n",
      "4                          It was 2013 with Joe Walsh\n",
      "5   URBAN COWBOY Joe Walsh - All Night Long  https...\n",
      "6   Joe Walsh - All Night Long (Live)  https://you...\n",
      "7   Joe Walsh - All Night Long  https://youtu.be/n...\n",
      "8   Joe Walsh has no substantial political ideolog...\n",
      "9   There is none better than she. I will vote for...\n",
      "10  Bill Weld, Joe Walsh, Rocky De La Fuente to ch...\n",
      "11  Me too! This year would have been a perfect to...\n",
      "12  Oops I was wrong.  There were three. Bill Weld...\n",
      "13  IL-8 only gave Dick Durbin 51% in 2014 & voted...\n",
      "14  Also in 2016,  Don Henley, Timothy B. Schmidt,...\n",
      "15  Joe Walsh has no substantial political ideolog...\n",
      "16  Joe Walsh has no substantial political ideolog...\n",
      "17  Joe Walsh: Within one hour, Trump said he DOES...\n",
      "18  Albums of the Day: Which one is your favorite?...\n",
      "19  Joe Walsh - One Day At A Time (Official Video)...\n",
      "\n",
      "[400 rows x 1 columns]\n"
     ]
    }
   ],
   "source": [
    "t = TwitterClient()\n",
    "tweets_pd_df = t.getTweets(pres_candidates, 10)\n",
    "    "
   ]
  },
  {
   "cell_type": "code",
   "execution_count": null,
   "metadata": {},
   "outputs": [],
   "source": []
  }
 ],
 "metadata": {
  "colab": {
   "collapsed_sections": [],
   "name": "TwitterClient.ipynb",
   "provenance": []
  },
  "kernelspec": {
   "display_name": "Python 3",
   "language": "python",
   "name": "python3"
  },
  "language_info": {
   "codemirror_mode": {
    "name": "ipython",
    "version": 3
   },
   "file_extension": ".py",
   "mimetype": "text/x-python",
   "name": "python",
   "nbconvert_exporter": "python",
   "pygments_lexer": "ipython3",
   "version": "3.7.3"
  }
 },
 "nbformat": 4,
 "nbformat_minor": 1
}
