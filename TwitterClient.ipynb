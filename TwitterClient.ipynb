{
 "cells": [
  {
   "cell_type": "code",
   "execution_count": 6,
   "metadata": {
    "colab": {
     "base_uri": "https://localhost:8080/",
     "height": 366
    },
    "colab_type": "code",
    "executionInfo": {
     "elapsed": 534,
     "status": "error",
     "timestamp": 1574961894902,
     "user": {
      "displayName": "Selean Ridley",
      "photoUrl": "",
      "userId": "16023402062508494894"
     },
     "user_tz": 300
    },
    "id": "KTm5Yavf7Pf5",
    "outputId": "647ca7c6-2770-4345-a183-2c66bf7cac1d"
   },
   "outputs": [
    {
     "name": "stdout",
     "output_type": "stream",
     "text": [
      "            0           1          2\n",
      "0     michael        mike     bennet\n",
      "1      joseph         joe      biden\n",
      "2     michael        mike  bloomberg\n",
      "3        cory      booker       None\n",
      "4       steve     bullock       None\n",
      "5        pete   buttigieg       None\n",
      "6      julian      castro       None\n",
      "7        john     delaney       None\n",
      "8       tulsi     gabbard       None\n",
      "9      kamala      harris       None\n",
      "10        amy   klobuchar       None\n",
      "11      deval     patrick       None\n",
      "12     bernie     sanders       None\n",
      "13        joe      sestak       None\n",
      "14        tom      steyer       None\n",
      "15  elizabeth         liz     warren\n",
      "16   marianne  williamson       None\n",
      "17     andrew        yang       None\n",
      "18     donald       trump       None\n",
      "19        joe       walsh       None\n"
     ]
    }
   ],
   "source": [
    "import re\n",
    "#!pip3 install twint\n",
    "#!pip install import_ipynb\n",
    "#!pip install nest_asyncio\n",
    "import nest_asyncio\n",
    "nest_asyncio.apply()\n",
    "import twint\n",
    "import pandas as pd\n",
    "%run \"candidates.ipynb\"\n"
   ]
  },
  {
   "cell_type": "code",
   "execution_count": 7,
   "metadata": {
    "colab": {},
    "colab_type": "code",
    "id": "cwihicsG8s33"
   },
   "outputs": [],
   "source": [
    "\n",
    "# ** Steps:\n",
    "# Creating a array, or pd dataframe, of presidential candidates and lemmentizing the names\n",
    "# to include shortened versions and aliases\n",
    "\n",
    "# Determining parameters, such as location of tweet, time, \n",
    "# limit of tweets collected, etc\n",
    "\n",
    "# Collecting tweets through twitter class with twint\n",
    "# saving tweets to a pd dataframe, which can be converted to a csv, or json\n",
    "\n",
    "# Processing tweets\n",
    "\n",
    "# ** Notes:\n",
    "# Let's put everything in a pandas dataframe first \n",
    "# and then convert to a csv or json\n",
    "\n",
    "\n",
    "class TwitterClient:\n",
    "    '''\n",
    "    Twitter Twint intialization \n",
    "    '''\n",
    "    def __init__(self):\n",
    "        #Intializes the Twint object\n",
    "        self.twint_Api = twint.Config()\n",
    "\n",
    "    def getTweets(self, keywords, count):\n",
    "\n",
    "        tweets = []\n",
    "\n",
    "        for keyword in keywords:\n",
    "            #Creates a search string from the list of presidential candidates\n",
    "            search_string = \"\"\n",
    "            for terms in keyword:\n",
    "                search_string += terms + \" \"\n",
    "\n",
    "            #Declares twint search parameters\n",
    "            self.twint_Api.Search = search_string\n",
    "            self.twint_Api.Limit = count\n",
    "            self.twint_Api.Lang = \"en\"\n",
    "            self.twint_Api.Pandas = True\n",
    "            self.twint_Api.Pandas_au = True\n",
    "            self.twint_Api.Hide_output = True\n",
    "            #self.Output = str(filename) + \".csv\"\n",
    "\n",
    "            try:\n",
    "                twint.run.Search(self.twint_Api)\n",
    "\n",
    "            except: #Should find out what error Twint throws\n",
    "                print(\"Error: Search: \" + str(search_string) + \" could not be run\")\n",
    "\n",
    "            df = twint.storage.panda.Tweets_df\n",
    "            tweets.append(df[['tweet']])\n",
    "        \n",
    "        #Merges the databases from each candidates into one\n",
    "        tweets_df = pd.concat(tweets)\n",
    "        #print(tweets_df)\n",
    "        return tweets_df\n",
    "\n"
   ]
  },
  {
   "cell_type": "code",
   "execution_count": 8,
   "metadata": {},
   "outputs": [
    {
     "name": "stdout",
     "output_type": "stream",
     "text": [
      "                                                tweet\n",
      "0   Yang is running on an idea. He's doing well ba...\n",
      "1   So -  AL - George Wallace AK - Mike Gravel, I ...\n",
      "2   Good news, bad news for ⁦@MichaelBennet⁩ in Q ...\n",
      "3   Bennet has had a good showing with press gener...\n",
      "4   Arn. Last thing I’m concerned about is falling...\n",
      "5   Michael Bennet Announces Endorsements of Longt...\n",
      "6     Funny, that’s Michael Bennet’s birth name, too.\n",
      "7   Warren & Bernie attacking Bloomberg for buying...\n",
      "8           Is this Michael Bennet or Mike Bloomberg?\n",
      "9   I bet Michael Bennet told Garrett to pull some...\n",
      "10  Biggest loser of the night?   Might be Michael...\n",
      "11  Some last minute co-sponsors! 🙏  McConnell, Mi...\n",
      "12  Michael Bennet Returns to New Hampshire With T...\n",
      "13  List of Republicans currently running for the ...\n",
      "14  So did @EASPORTS_MUT forgot Michael Bennet has...\n",
      "15  Michael Bennet is a prick who stands for liter...\n",
      "16  Among the eight that did not vote on Menashi's...\n",
      "17  Mitt Romney Leads Senate RINOs in Bipartisan '...\n",
      "18  this is the look colorado senator michael benn...\n",
      "19  @DavidCornDC Michael Bennet should get a close...\n",
      "0   Joseph DiStefano: Long Before Hunter’s Ukraine...\n",
      "1   Happy Thanksgiving Vice President Joe Biden an...\n",
      "2   Joseph DiStefano: Long Before Hunter’s Ukraine...\n",
      "3   Joseph DiStefano: Long Before Hunter’s Ukraine...\n",
      "4   Joseph DiStefano: Long Before Hunter’s Ukraine...\n",
      "5   Joseph DiStefano: Long Before Hunter’s Ukraine...\n",
      "6   Joseph DiStefano: Long Before Hunter’s Ukraine...\n",
      "7   Joseph DiStefano: Long Before Hunter’s Ukraine...\n",
      "8   Joseph DiStefano: Long Before Hunter’s Ukraine...\n",
      "9   Joseph DiStefano: Long Before Hunter’s Ukraine...\n",
      "..                                                ...\n",
      "10  Donald Trump visited troops in Afghanistan for...\n",
      "11          God bless our troops and president😃🥰👍👏👏✌️\n",
      "12  It's called damage control. There's a reason w...\n",
      "13                                     Two turkeys...\n",
      "14  I hope that @realDonaldTrump ‘s hair fixer wil...\n",
      "15  The \"unclear why\" is truth. And it is self-evi...\n",
      "16  If you actually think Washington who actually ...\n",
      "17  @realDonaldTrump continues to do Putin’s biddi...\n",
      "18  I see you both have a thing for buff dudes soa...\n",
      "19  Other. Party. Leaders.  See the difference?   ...\n",
      "0                 I thought Joe Walsh was a musician.\n",
      "1   Joe Walsh will do anything for another 15 minu...\n",
      "2   Joe Walsh: \"I got into this race... because Do...\n",
      "3                            Joe Walsh (the musician)\n",
      "4   Joe Walsh (whoever the hell that is): \"If I we...\n",
      "5   Joe Walsh is campaigning against Trump?  Well,...\n",
      "6   Hey @JoeWalsh.  Psalm 37:25  I have been young...\n",
      "7                                   Who is Joe Walsh?\n",
      "8   @Joewalsh  no if’s . Your not. Nobody cares ab...\n",
      "9   Hey Joe. You aren’t. Nobody gives a shit what ...\n",
      "10  Joe Walsh: \"If I were still in the House of Re...\n",
      "11  Joe Walsh: \"If I were still in the House of Re...\n",
      "12  Joe Walsh is all about Joe Walsh. And he’s a b...\n",
      "13                      Joe Walsh is my spirit animal\n",
      "14         Troll #trollbot pic.twitter.com/sXt7LbNLWq\n",
      "15  VIDEO - Joe Walsh: Republican Politicians Are ...\n",
      "16  Justin Amash, the entire Bush family, Mark San...\n",
      "17  You do realize Joe Walsh is Republican, right?...\n",
      "18  I’m thankful Joe Walsh joined the Eagles, and ...\n",
      "19  Joe Walsh: \"Republican politicians are like se...\n",
      "\n",
      "[400 rows x 1 columns]\n"
     ]
    }
   ],
   "source": [
    "t = TwitterClient()\n",
    "tweets_pd_df = t.getTweets(pres_candidates, 10)\n",
    "    "
   ]
  },
  {
   "cell_type": "code",
   "execution_count": null,
   "metadata": {},
   "outputs": [],
   "source": []
  }
 ],
 "metadata": {
  "colab": {
   "collapsed_sections": [],
   "name": "TwitterClient.ipynb",
   "provenance": []
  },
  "kernelspec": {
   "display_name": "Python 3",
   "language": "python",
   "name": "python3"
  },
  "language_info": {
   "codemirror_mode": {
    "name": "ipython",
    "version": 3
   },
   "file_extension": ".py",
   "mimetype": "text/x-python",
   "name": "python",
   "nbconvert_exporter": "python",
   "pygments_lexer": "ipython3",
   "version": "3.7.3"
  }
 },
 "nbformat": 4,
 "nbformat_minor": 1
}
