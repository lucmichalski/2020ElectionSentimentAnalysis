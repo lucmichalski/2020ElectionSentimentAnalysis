{
 "cells": [
  {
   "cell_type": "code",
   "execution_count": 1,
   "metadata": {
    "colab": {
     "base_uri": "https://localhost:8080/",
     "height": 383
    },
    "colab_type": "code",
    "id": "M8hqpuyR47hT",
    "outputId": "de90875c-cd27-4384-96b6-afce9bd57624"
   },
   "outputs": [
    {
     "name": "stdout",
     "output_type": "stream",
     "text": [
      "                         0\n",
      "0      michael mike bennet\n",
      "1         joseph joe biden\n",
      "2   michael mike bloomberg\n",
      "3              cory booker\n",
      "4            steve bullock\n",
      "5           pete buttigieg\n",
      "6            julian castro\n",
      "7             john delaney\n",
      "8            tulsi gabbard\n",
      "9            kamala harris\n",
      "10           amy klobuchar\n",
      "11           deval patrick\n",
      "12          bernie sanders\n",
      "13              joe sestak\n",
      "14              tom steyer\n",
      "15    elizabeth liz warren\n",
      "16     marianne williamson\n",
      "17             andrew yang\n",
      "18            donald trump\n",
      "19               joe walsh\n"
     ]
    }
   ],
   "source": [
    "'''\n",
    "Pd Dataframe to store presidential candidates\n",
    "'''\n",
    "\n",
    "import pandas as pd\n",
    "\n",
    "c_searchterms = [ \"michael mike bennet\",\n",
    "                    \"joseph joe biden\",\n",
    "                    \"michael mike bloomberg\",\n",
    "                    \"cory booker\", \n",
    "                    \"steve bullock\",\n",
    "                    \"pete buttigieg\",\n",
    "                    \"julian castro\",\n",
    "                    \"john delaney\",\n",
    "                    \"tulsi gabbard\",\n",
    "                    \"kamala harris\",\n",
    "                    \"amy klobuchar\",\n",
    "                    \"deval patrick\",\n",
    "                    \"bernie sanders\",\n",
    "                    \"joe sestak\",\n",
    "                    \"tom steyer\",\n",
    "                    \"elizabeth liz warren\",\n",
    "                    \"marianne williamson\",\n",
    "                    \"andrew yang\",\n",
    "                    \"donald trump\",\n",
    "                    \"joe walsh\" ]\n",
    "                   # [\"william\", \"weld\"] ]\n",
    "\n",
    "candidates_df = pd.DataFrame(c_searchterms)\n",
    "print(candidates_df)\n"
   ]
  }
 ],
 "metadata": {
  "colab": {
   "name": "candidates.ipynb",
   "provenance": []
  },
  "kernelspec": {
   "display_name": "Python 3",
   "language": "python",
   "name": "python3"
  },
  "language_info": {
   "codemirror_mode": {
    "name": "ipython",
    "version": 3
   },
   "file_extension": ".py",
   "mimetype": "text/x-python",
   "name": "python",
   "nbconvert_exporter": "python",
   "pygments_lexer": "ipython3",
   "version": "3.7.3"
  }
 },
 "nbformat": 4,
 "nbformat_minor": 1
}
